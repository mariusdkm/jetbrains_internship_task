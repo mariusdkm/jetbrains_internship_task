{
 "cells": [
  {
   "cell_type": "markdown",
   "id": "69a27a2d8bc4765a",
   "metadata": {
    "collapsed": false,
    "jupyter": {
     "outputs_hidden": false
    }
   },
   "source": [
    "# Notebook to evaluate code-t5+ model for naming methods in Java code\n",
    "\n",
    "Made for the JetBrains internship application by Marius De Kuthy Meurers\n",
    "\n",
    "We use the \"Salesforce/codet5p-220m\" from Huggingface to predict method names previously extracted from the IntelliJ Community edition source code. The methods were extracted using a Java application located in `extract_methods`; the extracted methods are saved in JSON format in `extract_methods/output.json`\n",
    "\n",
    "In this small lab, we use Pytorch Lightning to fine-tune the model and then evaluate whether there has been any improvement\n",
    "\n",
    "This notebook is partly inspired by [this notebook](https://colab.research.google.com/github/NielsRogge/Transformers-Tutorials/blob/master/T5/Fine_tune_CodeT5_for_generating_docstrings_from_Ruby_code.ipynb).\n"
   ]
  },
  {
   "cell_type": "code",
   "execution_count": 1,
   "id": "fc781b84-f6f5-4031-b46d-396df43f6eb1",
   "metadata": {
    "ExecuteTime": {
     "end_time": "2023-12-29T10:03:10.359955Z",
     "start_time": "2023-12-29T10:03:08.912564Z"
    }
   },
   "outputs": [],
   "source": [
    "import json\n",
    "import os\n",
    "import re\n",
    "from functools import reduce\n",
    "\n",
    "import pandas as pd\n",
    "import seaborn as sn\n",
    "import torch\n",
    "from Levenshtein import ratio, distance\n",
    "from pytorch_lightning import LightningDataModule, LightningModule, Trainer\n",
    "from pytorch_lightning.callbacks import ModelCheckpoint, LearningRateMonitor, EarlyStopping\n",
    "from pytorch_lightning.loggers import CSVLogger\n",
    "from sklearn.model_selection import KFold, train_test_split\n",
    "from torch.utils.data import DataLoader\n",
    "from torch.utils.data import Dataset\n",
    "from transformers import AutoTokenizer, T5ForConditionalGeneration"
   ]
  },
  {
   "cell_type": "code",
   "execution_count": 2,
   "id": "1fe964ae-3e1d-4217-a62b-686b30ec4f28",
   "metadata": {
    "ExecuteTime": {
     "end_time": "2023-12-29T10:03:10.359955Z",
     "start_time": "2023-12-29T10:03:08.912564Z"
    }
   },
   "outputs": [],
   "source": [
    "SEED = 42\n",
    "CHECKPOINT = \"Salesforce/codet5p-220m\"\n",
    "# we use the tokenizer in multithreaded enviroments this seems to cause some issues otherwise\n",
    "os.environ[\"TOKENIZERS_PARALLELISM\"] = \"false\"\n",
    "torch.set_float32_matmul_precision('medium')"
   ]
  },
  {
   "cell_type": "code",
   "execution_count": 3,
   "id": "4be81fb65fde5b38",
   "metadata": {
    "ExecuteTime": {
     "end_time": "2023-12-29T09:35:37.815944Z",
     "start_time": "2023-12-29T09:35:37.814648Z"
    },
    "collapsed": false,
    "jupyter": {
     "outputs_hidden": false
    }
   },
   "outputs": [],
   "source": [
    "def tokenize_data(samples, tokenizer, max_input_length=1024, max_target_length=128):\n",
    "    # encode the code-docstring pairs\n",
    "    method_bodys = samples['method']\n",
    "    method_names = samples['name']\n",
    "\n",
    "    # encode the method_bodys\n",
    "    model_inputs = tokenizer(method_bodys.tolist(), max_length=max_input_length, padding=\"max_length\", truncation=True,\n",
    "                             return_tensors=\"pt\")\n",
    "\n",
    "    # encode the summaries\n",
    "    labels = tokenizer(method_names.tolist(), max_length=max_target_length, padding=\"max_length\", truncation=True,\n",
    "                       return_tensors=\"pt\").input_ids\n",
    "\n",
    "    # important: we need to replace the index of the padding tokens by -100\n",
    "    # such that they are not taken into account by the CrossEntropyLoss\n",
    "    labels[labels == tokenizer.pad_token_id] = -100\n",
    "\n",
    "    model_inputs[\"labels\"] = labels\n",
    "\n",
    "    return model_inputs"
   ]
  },
  {
   "cell_type": "markdown",
   "id": "b6c78ac2-4d5f-4b8e-8efc-3b1987f2223b",
   "metadata": {},
   "source": [
    "## Define the Dataset\n",
    "\n",
    "We use a `LightningDataModule` to bundle all our data into a class usable by PytorchLightning.\n",
    "\n",
    "The data that we read has three columns: \n",
    "* `method`: The whole method as it is in the Java source code, including annotations such as `@Override`\n",
    "* `name`: The method name\n",
    "* `hasBody`: A boolean that indicates, whether the method has a body or not, so whether the method has any code inside of its definition\n",
    "\n",
    "Most importantly, here we do some data preprocessing in `prepare_data`\n",
    "* All methods that have more than 512 Tokens in length are removed so that we don't have truncated methods in our dataset\n",
    "* Only keep methods that have a body\n",
    "* Replace the method name with the span tag `<extra_id_0>`\n",
    "* Add the same span tag before the label\n",
    "* Tokenize all the data"
   ]
  },
  {
   "cell_type": "code",
   "execution_count": 4,
   "id": "20695c051adf19ed",
   "metadata": {
    "ExecuteTime": {
     "end_time": "2023-12-29T09:35:39.102498Z",
     "start_time": "2023-12-29T09:35:39.086832Z"
    },
    "collapsed": false,
    "jupyter": {
     "outputs_hidden": false
    }
   },
   "outputs": [],
   "source": [
    "class MethodDataset(Dataset):\n",
    "    def __init__(self, data):\n",
    "        self.data = data\n",
    "\n",
    "    def __len__(self):\n",
    "        return len(self.data[\"input_ids\"])\n",
    "\n",
    "    def __getitem__(self, idx):\n",
    "        return self.data[\"input_ids\"][idx], self.data[\"attention_mask\"][idx], self.data[\"labels\"][idx]\n",
    "\n",
    "\n",
    "class CustomDataModule(LightningDataModule):\n",
    "    def __init__(self, data_file, tokenizer, batch_size=8, num_workers=4, max_input_length=1024, max_target_length=128,\n",
    "                 mask_token=\"<extra_id_0>\"):\n",
    "        super().__init__()\n",
    "        self.data_file = data_file\n",
    "        self.tokenizer = tokenizer\n",
    "        self.batch_size = batch_size\n",
    "        self.num_workers = num_workers\n",
    "        self.max_input_length = max_input_length\n",
    "        self.max_target_length = max_target_length\n",
    "        self.mask_token = mask_token\n",
    "        self.test_idx = None\n",
    "        self.train_val_idx = None\n",
    "        self.data = None\n",
    "        self.dataset = None\n",
    "        self.val_dataset = None\n",
    "        self.train_dataset = None\n",
    "        self.test_dataset = None\n",
    "\n",
    "    def prepare_data(self):\n",
    "        if self.data is not None and self.train_val_idx is not None and self.test_idx is not None:\n",
    "            return\n",
    "\n",
    "        with open(self.data_file, \"r\") as f:\n",
    "            self.data = json.loads(f.read())\n",
    "        self.data = pd.DataFrame(self.data[\"input\"])\n",
    "        # remove all samples with a method body longer than max_length tokens or a method name longer than 64 tokens\n",
    "        self.data = self.data[\n",
    "            (self.data[\"method\"].str.len() <= max_input_length) & (self.data[\"name\"].str.len() <= max_target_length)]\n",
    "\n",
    "        # remove all samples with no method body\n",
    "        self.data = self.data[self.data[\"hasBody\"] == True]\n",
    "\n",
    "        # replace in each row in the method body the method name by <extra_id_0>\n",
    "        self.data.loc[:, \"method\"] = self.data.apply(lambda row: row[\"method\"].replace(row[\"name\"], self.mask_token),\n",
    "                                                     axis=1)\n",
    "\n",
    "        # add the <extra_id_0> token before each method name\n",
    "        self.data.loc[:, \"name\"] = self.data.apply(lambda row: self.mask_token + row[\"name\"], axis=1)\n",
    "\n",
    "        # tokenize the data\n",
    "        self.data = tokenize_data(self.data, self.tokenizer, max_input_length=self.max_input_length,\n",
    "                                  max_target_length=self.max_target_length)\n",
    "\n",
    "        self.train_val_idx, self.test_idx = train_test_split(range(len(self.data[\"input_ids\"])), test_size=0.1,\n",
    "                                                             random_state=SEED)\n",
    "\n",
    "    def setup(self, stage: str):\n",
    "        if stage == \"fit\":\n",
    "            kfold = KFold(n_splits=10, random_state=SEED, shuffle=True)\n",
    "            split = list(kfold.split(self.data[\"input_ids\"][self.train_val_idx]))\n",
    "            train_idx, valid_idx = split[0]\n",
    "            self.train_dataset = MethodDataset({k: v[train_idx] for k, v in self.data.items()})\n",
    "            self.val_dataset = MethodDataset({k: v[valid_idx] for k, v in self.data.items()})\n",
    "        if stage == \"test\":\n",
    "            self.test_dataset = MethodDataset({k: v[self.test_idx] for k, v in self.data.items()})\n",
    "\n",
    "    def train_dataloader(self):\n",
    "        return DataLoader(self.train_dataset, batch_size=self.batch_size, num_workers=self.num_workers, pin_memory=True)\n",
    "\n",
    "    def val_dataloader(self):\n",
    "        return DataLoader(self.val_dataset, batch_size=self.batch_size, num_workers=self.num_workers, pin_memory=True)\n",
    "\n",
    "    def test_dataloader(self):\n",
    "        return DataLoader(self.test_dataset, batch_size=self.batch_size, num_workers=self.num_workers, pin_memory=True)\n",
    "\n",
    "    def predict_dataloader(self):\n",
    "        raise NotImplementedError"
   ]
  },
  {
   "cell_type": "markdown",
   "id": "59ad678e-15a6-4302-8afa-e4d51be865d4",
   "metadata": {},
   "source": [
    "### Initialize the DataModule\n",
    "\n",
    "The variables here are chosen to use the most of my local computer(Nvidia 3080 with 10GB VRAM). The `max_input_length` could be increased to allow for longer methods to be classified, but as the size increases, it quadratically increases the model size in the VRAM. In order to have a larger `batch_size` and thus smaller training time, I decided on 512."
   ]
  },
  {
   "cell_type": "code",
   "execution_count": 5,
   "id": "f4518b61d2518eb6",
   "metadata": {
    "ExecuteTime": {
     "end_time": "2023-12-29T09:41:40.257066Z",
     "start_time": "2023-12-29T09:41:39.829452Z"
    },
    "collapsed": false,
    "jupyter": {
     "outputs_hidden": false
    }
   },
   "outputs": [],
   "source": [
    "batch_size = 8\n",
    "num_workers = 32\n",
    "tokenizer = AutoTokenizer.from_pretrained(CHECKPOINT)\n",
    "mask_token = \"<extra_id_0>\"\n",
    "device = \"cuda\"\n",
    "max_input_length = 512\n",
    "max_target_length = 64\n",
    "data_file = \"extract_methods/output.json\"\n",
    "\n",
    "data_module = CustomDataModule(data_file, tokenizer, batch_size=batch_size, num_workers=num_workers,\n",
    "                               max_input_length=max_input_length, max_target_length=max_target_length,\n",
    "                               mask_token=mask_token)"
   ]
  },
  {
   "cell_type": "markdown",
   "id": "3eb7ddbd-de4c-4961-bb15-c47d5b6c9afc",
   "metadata": {},
   "source": [
    "Even after sorting out some of the data, we still have 99040 samples for training, testing, and validation."
   ]
  },
  {
   "cell_type": "code",
   "execution_count": 6,
   "id": "6931dface2a2462e",
   "metadata": {
    "ExecuteTime": {
     "end_time": "2023-12-29T09:42:14.601965Z",
     "start_time": "2023-12-29T09:41:48.051806Z"
    },
    "collapsed": false,
    "jupyter": {
     "outputs_hidden": false
    }
   },
   "outputs": [
    {
     "data": {
      "text/plain": [
       "99040"
      ]
     },
     "execution_count": 6,
     "metadata": {},
     "output_type": "execute_result"
    }
   ],
   "source": [
    "data_module.prepare_data()\n",
    "len(data_module.data[\"input_ids\"])"
   ]
  },
  {
   "cell_type": "markdown",
   "id": "f30b27a9-23fe-4db9-b653-0381a8409cb3",
   "metadata": {},
   "source": [
    "## Defining the training infrastructure\n",
    "\n",
    "In this `LightningModule` class, we define how our predefined model is trained and evaluated.\n",
    "\n",
    "### Levenshtein distance\n",
    "\n",
    "To evaluate how well the model performs, I use the Levenshtein distance. This number tells you how many character changes would be needed to get to the label. I chose this metric because method names are single words, and this metric seemed to show a good performance in initial tests.\n",
    "\n",
    "In the code, to extract the method name from the predicted tokens, we use a regex to extract the first word after the `<extra_id_0>` token. \n",
    "After that, we calculate three values using [this Levenshtein implementation in Python](https://github.com/rapidfuzz/Levenshtein)\n",
    "* `distance` the standard Levenshtein distance\n",
    "* `distance_normalized` the Levenshtein distance divided by the length of the label, so that longer words aren't weighted as much\n",
    "* `ratio` calculates a normalized indel similarity in the range [0, 1] ([from the documentation](https://rapidfuzz.github.io/Levenshtein/levenshtein.html#ratio))\n",
    "\n",
    "### Learning Rate Scheduler and Optimizer\n",
    "\n",
    "We use a CosineAnnealingLR that decreases each step to schedule the learning rate. \n",
    "The AdamW Optimizer is used in many other research projects."
   ]
  },
  {
   "cell_type": "code",
   "execution_count": 7,
   "id": "c6b564428e161b14",
   "metadata": {
    "ExecuteTime": {
     "end_time": "2023-12-29T10:02:33.806016Z",
     "start_time": "2023-12-29T10:02:33.613178Z"
    },
    "collapsed": false,
    "jupyter": {
     "outputs_hidden": false
    }
   },
   "outputs": [],
   "source": [
    "class CustomTransformer(LightningModule):\n",
    "    def __init__(self, tokenizer_factory, batch_size=4, lr=5e-5, num_train_epochs=15):\n",
    "        super().__init__()\n",
    "        self.model = T5ForConditionalGeneration.from_pretrained(CHECKPOINT)\n",
    "        self.tokenizer_factory = tokenizer_factory\n",
    "        self.save_hyperparameters()\n",
    "\n",
    "    def forward(self, input_ids, attention_mask, labels=None):\n",
    "        return self.model(input_ids, attention_mask=attention_mask, labels=labels)\n",
    "\n",
    "    def levenshtein(self, preds_tokens, labels_tokens):\n",
    "        # use levenshtein ratio to calculate the accuracy\n",
    "        tokenizer = self.tokenizer_factory()\n",
    "\n",
    "        pred = tokenizer.batch_decode(preds_tokens)\n",
    "        # extract first word after <extra_id_0> token\n",
    "        pred = map(lambda x: re.findall(r\"<extra_id_0>[^\\w<]*(\\w+)\", x), pred)\n",
    "        # if no <extra_id_0> token is found, return empty string\n",
    "        pred = list(map(lambda x: x[0] if len(x) > 0 else \"\", pred))\n",
    "\n",
    "        # remove the -100 labels for padding tokens, because they cause issues\n",
    "        labels = map(lambda x: x[x != -100], labels_tokens)\n",
    "        labels = tokenizer.batch_decode(labels, skip_special_tokens=True)\n",
    "\n",
    "        distances = map(lambda x, y: distance(x, y), pred, labels)\n",
    "        distances = reduce(lambda x, y: x + y, distances) / len(preds_tokens)\n",
    "        distances_normalized = map(lambda x, y, z: distance(x, y) / z, pred, labels, map(lambda x: max(len(x), 1), labels))\n",
    "        distances_normalized = reduce(lambda x, y: x + y, distances_normalized) / len(preds_tokens)\n",
    "        \n",
    "        ratios = map(lambda x, y: ratio(x, y), pred, labels)\n",
    "        ratios = reduce(lambda x, y: x + y, ratios) / len(preds_tokens)\n",
    "\n",
    "        return ratios, distances, distances_normalized\n",
    "\n",
    "    def evaluate(self, batch, stage=None):\n",
    "        input_ids, attention_mask, labels = batch\n",
    "        # reduce memory usage by using fp16\n",
    "\n",
    "        outputs = self(input_ids, attention_mask, labels=labels)\n",
    "        loss = outputs.loss\n",
    "\n",
    "        if stage is not None:\n",
    "            preds = outputs.logits.argmax(dim=-1)\n",
    "            ratio, dist, dist_norm = self.levenshtein(preds, labels)\n",
    "            self.log(f\"{stage}_l_ratio\", ratio, prog_bar=True)\n",
    "            self.log(f\"{stage}_l_dist\", dist, prog_bar=True)\n",
    "            self.log(f\"{stage}_l_dist_norm\", dist_norm, prog_bar=True)\n",
    "            self.log(f\"{stage}_loss\", loss, prog_bar=True)\n",
    "            self.log(f\"{stage}_lr\", self.trainer.optimizers[0].param_groups[0][\"lr\"], prog_bar=True)\n",
    "\n",
    "        return loss\n",
    "\n",
    "    def training_step(self, batch, batch_idx):\n",
    "        return self.evaluate(batch, stage=\"train\")\n",
    "\n",
    "    def validation_step(self, batch, batch_idx):\n",
    "        return self.evaluate(batch, stage=\"val\")\n",
    "\n",
    "    def test_step(self, batch, batch_idx):\n",
    "        return self.evaluate(batch, stage=\"test\")\n",
    "\n",
    "    def predict_step(self, batch, batch_idx, dataloader_idx=None):\n",
    "        input_ids, attention_mask = batch\n",
    "        outputs = self.generate(input_ids=input_ids, attention_mask=attention_mask,\n",
    "                                max_length=64 + len(self.tokenizer_factory().eos_token),\n",
    "                                num_beams=5, early_stopping=True)\n",
    "        preds = self.tokenizer_factory().decode(outputs, skip_special_tokens=True)\n",
    "        return preds\n",
    "\n",
    "    def configure_optimizers(self):\n",
    "        optimizer = torch.optim.AdamW(self.parameters(), lr=self.hparams.lr)\n",
    "        scheduler = {\n",
    "            \"scheduler\": torch.optim.lr_scheduler.CosineAnnealingLR(optimizer, T_max=self.hparams.num_train_epochs * len(data_module.train_dataloader()),\n",
    "                                                                     eta_min=0),\n",
    "            \"interval\": \"step\",\n",
    "            \"frequency\": 1\n",
    "        }\n",
    "        return {\"optimizer\": optimizer, \"lr_scheduler\": scheduler}\n"
   ]
  },
  {
   "cell_type": "markdown",
   "id": "da7c2478-f559-4372-93c0-9bb7ef452ad7",
   "metadata": {},
   "source": [
    "## Initialize the Trainer\n",
    "\n",
    "Before fine-tuning the model, we initialize our Transformer module and then the trainer.\n",
    "\n",
    "* Because of limited training time, only 1 epoch was trained.\n",
    "* 16 Bit precision was used so that GPU memory could be saved for higher batch sizes"
   ]
  },
  {
   "cell_type": "code",
   "execution_count": 8,
   "id": "d871fd13191f55c7",
   "metadata": {
    "ExecuteTime": {
     "end_time": "2023-12-29T09:56:19.621305Z",
     "start_time": "2023-12-29T09:56:18.598689Z"
    },
    "collapsed": false,
    "jupyter": {
     "outputs_hidden": false
    }
   },
   "outputs": [
    {
     "name": "stderr",
     "output_type": "stream",
     "text": [
      "GPU available: True (cuda), used: True\n",
      "TPU available: False, using: 0 TPU cores\n",
      "IPU available: False, using: 0 IPUs\n",
      "HPU available: False, using: 0 HPUs\n"
     ]
    }
   ],
   "source": [
    "tokenizer_factory = lambda: AutoTokenizer.from_pretrained(CHECKPOINT)\n",
    "\n",
    "num_epochs = 1\n",
    "\n",
    "model = CustomTransformer(tokenizer_factory, batch_size=batch_size, lr=5e-5, num_train_epochs=num_epochs)\n",
    "trainer = Trainer(devices=1,\n",
    "                  accelerator=\"cuda\",\n",
    "                  max_epochs=num_epochs,\n",
    "                  logger=CSVLogger(save_dir=\"logs\", name=\"codet5\"),\n",
    "                  callbacks=[\n",
    "                      ModelCheckpoint(dirpath=\".\", save_top_k=1, monitor=\"train_loss\", mode=\"min\", filename='{step}-{train_loss:.3f}'),\n",
    "                      LearningRateMonitor(logging_interval=\"step\"),\n",
    "                      # EarlyStopping(monitor=\"train_loss\", patience=10, verbose=True, mode=\"min\")\n",
    "                  ],\n",
    "                  precision=\"16-true\")"
   ]
  },
  {
   "cell_type": "code",
   "execution_count": 8,
   "id": "214ef2dd01cf2a7b",
   "metadata": {
    "ExecuteTime": {
     "start_time": "2023-12-29T08:18:36.438438Z"
    },
    "collapsed": false,
    "jupyter": {
     "outputs_hidden": false
    }
   },
   "outputs": [
    {
     "name": "stderr",
     "output_type": "stream",
     "text": [
      "/home/deep/.virtualenvs/jetbrains_internship_local/lib/python3.11/site-packages/pytorch_lightning/utilities/parsing.py:43: attribute 'tokenizer_factory' removed from hparams because it cannot be pickled\n",
      "/home/deep/.virtualenvs/jetbrains_internship_local/lib/python3.11/site-packages/pytorch_lightning/callbacks/model_checkpoint.py:639: Checkpoint directory /tmp/pycharm_project_376 exists and is not empty.\n",
      "LOCAL_RANK: 0 - CUDA_VISIBLE_DEVICES: [0]\n",
      "\n",
      "  | Name  | Type                       | Params\n",
      "-----------------------------------------------------\n",
      "0 | model | T5ForConditionalGeneration | 222 M \n",
      "-----------------------------------------------------\n",
      "222 M     Trainable params\n",
      "0         Non-trainable params\n",
      "222 M     Total params\n",
      "891.528   Total estimated model params size (MB)\n"
     ]
    },
    {
     "data": {
      "application/vnd.jupyter.widget-view+json": {
       "model_id": "",
       "version_major": 2,
       "version_minor": 0
      },
      "text/plain": [
       "Sanity Checking: |                                                                                            …"
      ]
     },
     "metadata": {},
     "output_type": "display_data"
    },
    {
     "data": {
      "application/vnd.jupyter.widget-view+json": {
       "model_id": "ea914556075548b59f62686d20801aec",
       "version_major": 2,
       "version_minor": 0
      },
      "text/plain": [
       "Training: |                                                                                                   …"
      ]
     },
     "metadata": {},
     "output_type": "display_data"
    },
    {
     "name": "stderr",
     "output_type": "stream",
     "text": [
      "/home/deep/.virtualenvs/jetbrains_internship_local/lib/python3.11/site-packages/torch/optim/lr_scheduler.py:136: UserWarning: Detected call of `lr_scheduler.step()` before `optimizer.step()`. In PyTorch 1.1.0 and later, you should call them in the opposite order: `optimizer.step()` before `lr_scheduler.step()`.  Failure to do this will result in PyTorch skipping the first value of the learning rate schedule. See more details at https://pytorch.org/docs/stable/optim.html#how-to-adjust-learning-rate\n",
      "  warnings.warn(\"Detected call of `lr_scheduler.step()` before `optimizer.step()`. \"\n"
     ]
    },
    {
     "data": {
      "application/vnd.jupyter.widget-view+json": {
       "model_id": "",
       "version_major": 2,
       "version_minor": 0
      },
      "text/plain": [
       "Validation: |                                                                                                 …"
      ]
     },
     "metadata": {},
     "output_type": "display_data"
    },
    {
     "name": "stderr",
     "output_type": "stream",
     "text": [
      "`Trainer.fit` stopped: `max_epochs=1` reached.\n"
     ]
    }
   ],
   "source": [
    "trainer.fit(model, data_module)"
   ]
  },
  {
   "cell_type": "code",
   "execution_count": 9,
   "id": "83924ed3-1c13-4629-ac7a-9ac10fed5304",
   "metadata": {},
   "outputs": [],
   "source": [
    "# save models for later use\n",
    "model.model.save_pretrained(\"codet5\")\n",
    "trainer.save_checkpoint(\"codet5.ckpt\")"
   ]
  },
  {
   "cell_type": "markdown",
   "id": "488f588abd14f7ea",
   "metadata": {
    "collapsed": false,
    "jupyter": {
     "outputs_hidden": false
    }
   },
   "source": [
    "# Evaluation"
   ]
  },
  {
   "cell_type": "markdown",
   "id": "0ca07a7a-3325-4250-9c86-4090ca12866f",
   "metadata": {},
   "source": [
    "## Plotting the learning progress\n",
    "\n",
    "By plotting the logs we can learn some things about the trainng\n",
    "* The plots of the learning progress don't show a good learning progression\n",
    "    * The training loss is all over the place and doesn't show a linear decrease over the training, the same is for our metric the Levenshtein distance.\n",
    "* The loss and the Levenshtein distance correclate, this shows that the levenshtein distance is a good indicator on how good our prediciton is\n",
    "* In the middle of the training progression there must be a part, where very easy method names are placed, because there the model is predicting all models right."
   ]
  },
  {
   "cell_type": "code",
   "execution_count": 51,
   "id": "b9a1ddc178a70dc3",
   "metadata": {
    "ExecuteTime": {
     "end_time": "2023-12-28T21:42:00.666934Z",
     "start_time": "2023-12-28T21:42:00.375233Z"
    },
    "collapsed": false,
    "jupyter": {
     "outputs_hidden": false
    }
   },
   "outputs": [
    {
     "data": {
      "text/plain": [
       "<seaborn.axisgrid.FacetGrid at 0x7fb2e00f53d0>"
      ]
     },
     "execution_count": 51,
     "metadata": {},
     "output_type": "execute_result"
    },
    {
     "data": {
      "image/png": "[encoded data removed]",
      "text/plain": [
       "<Figure size 669x500 with 1 Axes>"
      ]
     },
     "metadata": {},
     "output_type": "display_data"
    }
   ],
   "source": [
    "metrics = pd.read_csv(f\"{trainer.logger.log_dir}/metrics.csv\")\n",
    "metrics.drop(columns=[\"test_loss\", \"test_l_dist\", \"test_l_dist_norm\", \"test_l_ratio\", \"epoch\"], inplace=True)\n",
    "metrics.set_index(\"step\", inplace=True)\n",
    "# display(metrics.dropna(axis=1, how=\"all\").head())\n",
    "sn.relplot(data=metrics, kind=\"line\")"
   ]
  },
  {
   "cell_type": "markdown",
   "id": "66937294-00c4-444e-ad36-23c02ff6b0df",
   "metadata": {},
   "source": [
    "## Run the test data on the fine tuned model"
   ]
  },
  {
   "cell_type": "code",
   "execution_count": 17,
   "id": "c8b39b4cc33a38c2",
   "metadata": {
    "ExecuteTime": {
     "end_time": "2023-12-28T22:14:49.039365Z",
     "start_time": "2023-12-28T22:09:14.202148Z"
    },
    "collapsed": false,
    "jupyter": {
     "outputs_hidden": false
    }
   },
   "outputs": [
    {
     "name": "stderr",
     "output_type": "stream",
     "text": [
      "LOCAL_RANK: 0 - CUDA_VISIBLE_DEVICES: [0]\n"
     ]
    },
    {
     "data": {
      "application/vnd.jupyter.widget-view+json": {
       "model_id": "60e9c8278c704c15b37f74893777951b",
       "version_major": 2,
       "version_minor": 0
      },
      "text/plain": [
       "Testing: |                                                                                                    …"
      ]
     },
     "metadata": {},
     "output_type": "display_data"
    },
    {
     "name": "stdout",
     "output_type": "stream",
     "text": [
      "────────────────────────────────────────────────────────────────────────────────────────────────────────────────────────\n",
      "       Test metric             DataLoader 0\n",
      "────────────────────────────────────────────────────────────────────────────────────────────────────────────────────────\n",
      "       test_l_dist           5.955270767211914\n",
      "    test_l_dist_norm        0.48828810453414917\n",
      "      test_l_ratio           0.670490562915802\n",
      "        test_loss           1.2201871871948242\n",
      "         test_lr                    0.0\n",
      "────────────────────────────────────────────────────────────────────────────────────────────────────────────────────────\n"
     ]
    }
   ],
   "source": [
    "test_out = trainer.test(model, datamodule=data_module)"
   ]
  },
  {
   "cell_type": "markdown",
   "id": "2d2a9a47-2dbb-496e-b7fc-1548a0c7c990",
   "metadata": {},
   "source": [
    "## Run the test data on the base model "
   ]
  },
  {
   "cell_type": "code",
   "execution_count": 19,
   "id": "3a58dd90-40bd-47ec-9ea3-63175a4d93cd",
   "metadata": {},
   "outputs": [
    {
     "name": "stderr",
     "output_type": "stream",
     "text": [
      "/home/deep/.virtualenvs/jetbrains_internship_local/lib/python3.11/site-packages/pytorch_lightning/utilities/parsing.py:43: attribute 'tokenizer_factory' removed from hparams because it cannot be pickled\n",
      "LOCAL_RANK: 0 - CUDA_VISIBLE_DEVICES: [0]\n"
     ]
    },
    {
     "data": {
      "application/vnd.jupyter.widget-view+json": {
       "model_id": "4a3f0000eabb4c3d87c80464644c2674",
       "version_major": 2,
       "version_minor": 0
      },
      "text/plain": [
       "Testing: |                                                                                                    …"
      ]
     },
     "metadata": {},
     "output_type": "display_data"
    },
    {
     "name": "stdout",
     "output_type": "stream",
     "text": [
      "────────────────────────────────────────────────────────────────────────────────────────────────────────────────────────\n",
      "       Test metric             DataLoader 0\n",
      "────────────────────────────────────────────────────────────────────────────────────────────────────────────────────────\n",
      "       test_l_dist          11.112581253051758\n",
      "    test_l_dist_norm         1.223065733909607\n",
      "      test_l_ratio          0.24719402194023132\n",
      "        test_loss           10.193760871887207\n",
      "         test_lr                    0.0\n",
      "────────────────────────────────────────────────────────────────────────────────────────────────────────────────────────\n"
     ]
    }
   ],
   "source": [
    "base_model = CustomTransformer(tokenizer_factory, batch_size=batch_size, lr=5e-5, num_train_epochs=num_epochs)\n",
    "base_test_out = trainer.test(base_model, datamodule=data_module)"
   ]
  },
  {
   "cell_type": "markdown",
   "id": "f993a173-36fa-4524-a210-640bdf634a3a",
   "metadata": {},
   "source": [
    "## Compare the models\n",
    "\n",
    "While the training graph shows no clear increase in learning the testing does show a clear improvement in all metrics.\n",
    "Most importantly the loss is only a 10th of the size as without fine tuning."
   ]
  },
  {
   "cell_type": "code",
   "execution_count": 43,
   "id": "bfb9f24f-2ea6-44a1-95d4-2d1588affb32",
   "metadata": {},
   "outputs": [
    {
     "data": {
      "text/html": [
       "<div>\n",
       "<style scoped>\n",
       "    .dataframe tbody tr th:only-of-type {\n",
       "        vertical-align: middle;\n",
       "    }\n",
       "\n",
       "    .dataframe tbody tr th {\n",
       "        vertical-align: top;\n",
       "    }\n",
       "\n",
       "    .dataframe thead th {\n",
       "        text-align: right;\n",
       "    }\n",
       "</style>\n",
       "<table border=\"1\" class=\"dataframe\">\n",
       "  <thead>\n",
       "    <tr style=\"text-align: right;\">\n",
       "      <th></th>\n",
       "      <th>Levenshtein ratio</th>\n",
       "      <th>Levenshtein distance</th>\n",
       "      <th>Levenshtein distance normalized</th>\n",
       "      <th>loss</th>\n",
       "    </tr>\n",
       "    <tr>\n",
       "      <th>model</th>\n",
       "      <th></th>\n",
       "      <th></th>\n",
       "      <th></th>\n",
       "      <th></th>\n",
       "    </tr>\n",
       "  </thead>\n",
       "  <tbody>\n",
       "    <tr>\n",
       "      <th>Salesforce/codet5p-220m-finetuned</th>\n",
       "      <td>0.670491</td>\n",
       "      <td>5.955271</td>\n",
       "      <td>0.488288</td>\n",
       "      <td>1.220187</td>\n",
       "    </tr>\n",
       "    <tr>\n",
       "      <th>Salesforce/codet5p-220m</th>\n",
       "      <td>0.247194</td>\n",
       "      <td>11.112581</td>\n",
       "      <td>1.223066</td>\n",
       "      <td>10.193761</td>\n",
       "    </tr>\n",
       "  </tbody>\n",
       "</table>\n",
       "</div>"
      ],
      "text/plain": [
       "                                   Levenshtein ratio  Levenshtein distance  \\\n",
       "model                                                                        \n",
       "Salesforce/codet5p-220m-finetuned           0.670491              5.955271   \n",
       "Salesforce/codet5p-220m                     0.247194             11.112581   \n",
       "\n",
       "                                   Levenshtein distance normalized       loss  \n",
       "model                                                                          \n",
       "Salesforce/codet5p-220m-finetuned                         0.488288   1.220187  \n",
       "Salesforce/codet5p-220m                                   1.223066  10.193761  "
      ]
     },
     "metadata": {},
     "output_type": "display_data"
    }
   ],
   "source": [
    "test_out[0][\"model\"] = CHECKPOINT + \"-finetuned\"\n",
    "base_test_out[0][\"model\"] = CHECKPOINT\n",
    "output_data = pd.DataFrame([*test_out, *base_test_out])\n",
    "output_data.set_index(\"model\", inplace=True)\n",
    "output_data.rename(columns={\"test_loss\": \"loss\", \"test_l_dist\": \"Levenshtein distance\", \"test_l_dist_norm\": \"Levenshtein distance normalized\", \"test_l_ratio\": \"Levenshtein ratio\"}, inplace=True)\n",
    "output_data.drop(columns=[\"test_lr\"], inplace=True)\n",
    "display(output_data)"
   ]
  },
  {
   "cell_type": "code",
   "execution_count": null,
   "id": "804f22ed-e6b2-4d09-b6cc-dc372f93a919",
   "metadata": {},
   "outputs": [],
   "source": []
  }
 ],
 "metadata": {
  "kernelspec": {
   "display_name": "Python 3 (ipykernel)",
   "language": "python",
   "name": "python3"
  },
  "language_info": {
   "codemirror_mode": {
    "name": "ipython",
    "version": 3
   },
   "file_extension": ".py",
   "mimetype": "text/x-python",
   "name": "python",
   "nbconvert_exporter": "python",
   "pygments_lexer": "ipython3",
   "version": "3.11.6"
  }
 },
 "nbformat": 4,
 "nbformat_minor": 5
}
